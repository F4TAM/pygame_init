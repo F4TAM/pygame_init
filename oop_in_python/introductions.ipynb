{
 "cells": [
  {
   "cell_type": "markdown",
   "metadata": {},
   "source": [
    "\n",
    "## 1. OOP Introduktion 📖\n",
    "\n",
    "Objektorienterad programmering (OOP) strukturerar data som \"objekt\", baserade på \"klasser\". \n",
    "Genom OOP blir koden mer läsbar, återanvändbar och skalerbar. \n",
    "\n",
    "De centrala principerna är klasser, objekt, arv (inheritance), inkapsulering (encapsulation) och polymorfism (polymorphism).\n",
    "\n",
    "![bild 1](images/introduction_image_1.png)"
   ]
  },
  {
   "cell_type": "markdown",
   "metadata": {},
   "source": [
    "\n",
    "Med OOP blir kod modulär, och varje objekt hanterar specifika uppgifter. Detta gör underhåll och felsökning enklare.\n",
    "\n",
    "![bild 2](images/introduction_image_2.png)\n",
    "\n",
    "\n",
    "I Python kommer vi att titta närmare på klassen `Dog` 🐕, som är en underklass av `Animal`, och även beröra associerade klasser såsom `SwimmingRetriever` 🌊 och `Pack` 🐾.\n",
    "\n",
    "\n",
    "### Varför OOP? 🤔\n",
    "1. **Återanvändbarhet:** Koden kan återanvändas enkelt. 🔁\n",
    "2. **Underhåll:** Modulär kod är lättare att hantera. 🔧\n",
    "3. **Realism:** OOP reflekterar verkliga objekt. 🌍\n",
    "4. **Inkapsulering (Encapsulation):** Data skyddas från oavsiktliga ändringar. 🔒\n",
    "\n",
    "![bild 3](images/introduction_image_3.jpg)\n",
    "\n",
    "### Grundläggande termer: 📚\n",
    "- **Klass (Class):** En blueprint för objekt med egenskaper och metoder. 📄\n",
    "- **Objekt (Object)/Instans (Instance):** En version av en klass. 🔍\n",
    "- **Metod (Method):** Funktion inom en klass. 🛠\n",
    "- **Attribut (Attribute):** Data för en instans. 📌\n",
    "- **Arv (Inheritance):** Skapa en klass baserat på en annan. 🌱\n",
    "- **Inkapsulering (Encapsulation):** Skydda data. 🛡\n",
    "- **Polymorfism (Polymorphism):** Metoder agerar olika i olika klasser. 🎭\n",
    "\n",
    "\n",
    "![bild 4](images/introduction_image_4.png)\n",
    "\n",
    "\n",
    "\n",
    "Nästa: Utforska `Dog` klassen."
   ]
  },
  {
   "cell_type": "markdown",
   "metadata": {},
   "source": []
  }
 ],
 "metadata": {
  "kernelspec": {
   "display_name": "Python 3",
   "language": "python",
   "name": "python3"
  },
  "language_info": {
   "codemirror_mode": {
    "name": "ipython",
    "version": 3
   },
   "file_extension": ".py",
   "mimetype": "text/x-python",
   "name": "python",
   "nbconvert_exporter": "python",
   "pygments_lexer": "ipython3",
   "version": "3.10.8"
  }
 },
 "nbformat": 4,
 "nbformat_minor": 2
}
