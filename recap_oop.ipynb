{
 "cells": [
  {
   "cell_type": "markdown",
   "metadata": {},
   "source": [
    "# Klasser och Objekt"
   ]
  },
  {
   "cell_type": "code",
   "execution_count": 1,
   "metadata": {},
   "outputs": [
    {
     "name": "stdout",
     "output_type": "stream",
     "text": [
      "Fido\n",
      "3\n"
     ]
    }
   ],
   "source": [
    "class Dog:\n",
    "    def __init__(self, name, age):\n",
    "        self.name = name\n",
    "        self.age = age\n",
    "        self._life = 100\n",
    "        \n",
    "\n",
    "    def bark(self):\n",
    "        print(\"Woof woof!\")\n",
    "\n",
    "\n",
    "class goldenRetriever(Dog):\n",
    "    def __init__(self, name, age, color):\n",
    "        super().__init__(name, age)\n",
    "        self.color = color\n",
    "\n",
    "    def bark(self):\n",
    "        print(\"Woof woof! I'm a golden retriever!\")\n",
    "\n",
    "class poodle(Dog):\n",
    "    def __init__(self, name, age, color):\n",
    "        super().__init__(name, age)\n",
    "        self.color = color\n",
    "\n",
    "    def bark(self):\n",
    "        print(\"Woof woof! I'm a poodle!\")\n",
    "\n",
    "\n",
    "if __name__ == \"__main__\":\n",
    "\n",
    "    # Skapar en instans av klassen Dog\n",
    "    dog1 = Dog(\"Fido\", 3)  \n",
    "\n",
    "    print(dog1.name)\n",
    "    print(dog1.age)\n",
    "\n",
    "\n"
   ]
  },
  {
   "cell_type": "markdown",
   "metadata": {},
   "source": [
    "# Attribut\n",
    "\n",
    "Klassen Dog har två attributer: name och age"
   ]
  },
  {
   "cell_type": "markdown",
   "metadata": {},
   "source": [
    "# Metoder \n",
    "\n",
    "Klassen Dog har en metod som heter bark()\n"
   ]
  },
  {
   "cell_type": "markdown",
   "metadata": {},
   "source": [
    "# Inkapsulering\n",
    "\n",
    "Exempel på  inkapsulering är klassen Dogs attribute  \"_life\"\n",
    "Den attributen är privat\n",
    "\n",
    "\n",
    "\n",
    "\n",
    "\n"
   ]
  },
  {
   "cell_type": "markdown",
   "metadata": {},
   "source": [
    "# Arv \n",
    "\n",
    "Klassen golden_retriever ärver från klassen Dog\n",
    "\n",
    "- Klassen golden_retriever har alla attributer och metoder som klassen Dog\n"
   ]
  },
  {
   "cell_type": "markdown",
   "metadata": {},
   "source": [
    "#  Polymorfism\n",
    "\n",
    "Subklasserna Poodle och golden_retriever delar samma metoder.\n",
    "Detta gör att de kan samreagera ifall man kallar på t.ex. bark()\n",
    "\n",
    "\n",
    "\n"
   ]
  },
  {
   "cell_type": "markdown",
   "metadata": {},
   "source": [
    "# Abstrakt klass\n",
    "\n",
    "Man skapar en klass som har attributer och metoder som används av olika klasser\n",
    "Denna klass är inte tänkt att man skapar en instans av.\n",
    "\n",
    "\n",
    "\n"
   ]
  },
  {
   "cell_type": "markdown",
   "metadata": {},
   "source": [
    "# Composition \n",
    "En klass som är skapad från att man använder andra klasser\n",
    "\n"
   ]
  },
  {
   "cell_type": "markdown",
   "metadata": {},
   "source": []
  },
  {
   "cell_type": "markdown",
   "metadata": {},
   "source": []
  }
 ],
 "metadata": {
  "kernelspec": {
   "display_name": "Python 3",
   "language": "python",
   "name": "python3"
  },
  "language_info": {
   "codemirror_mode": {
    "name": "ipython",
    "version": 3
   },
   "file_extension": ".py",
   "mimetype": "text/x-python",
   "name": "python",
   "nbconvert_exporter": "python",
   "pygments_lexer": "ipython3",
   "version": "3.10.8"
  }
 },
 "nbformat": 4,
 "nbformat_minor": 2
}
