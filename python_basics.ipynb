{
 "cells": [
  {
   "cell_type": "markdown",
   "metadata": {},
   "source": [
    "# Python Basics\n",
    "\n",
    "1. Variabel  => Dog\n",
    "2. Värde => \"Lucy\"\n",
    "3. Typ\n"
   ]
  },
  {
   "cell_type": "code",
   "execution_count": 1,
   "metadata": {},
   "outputs": [
    {
     "name": "stdout",
     "output_type": "stream",
     "text": [
      "Lucy\n"
     ]
    },
    {
     "data": {
      "text/plain": [
       "str"
      ]
     },
     "execution_count": 1,
     "metadata": {},
     "output_type": "execute_result"
    }
   ],
   "source": [
    "\n",
    "# 1.\n",
    "Dog = \"Lucy\"\n",
    "\n",
    "# 2.\n",
    "print(Dog)\n",
    "\n",
    "#  3.\n",
    "type(Dog)\n",
    "\n",
    "\n",
    "\n",
    "\n",
    "\n"
   ]
  },
  {
   "cell_type": "markdown",
   "metadata": {},
   "source": [
    "\n",
    "# Funktion\n",
    "\n",
    "\n",
    "1. Inbyggda funktioner\n",
    "\n",
    "2. Användardefinerade funktioner\n",
    "\n",
    "\n",
    "\n"
   ]
  },
  {
   "cell_type": "code",
   "execution_count": 2,
   "metadata": {},
   "outputs": [
    {
     "name": "stdout",
     "output_type": "stream",
     "text": [
      "Print är en inbyggd funktion\n",
      "10\n"
     ]
    }
   ],
   "source": [
    "# 1.\n",
    "\n",
    "print(\"Print är en inbyggd funktion\")\n",
    "\n",
    "# 2.\n",
    "\n",
    "\n",
    "def init(arg):\n",
    "    return arg\n",
    "\n",
    "\n",
    "print(init(10))"
   ]
  },
  {
   "cell_type": "markdown",
   "metadata": {},
   "source": [
    "# Villkorsatser\n",
    "\n",
    "1. If-else\n",
    "\n",
    "2. match-case\n",
    "\n"
   ]
  },
  {
   "cell_type": "code",
   "execution_count": 5,
   "metadata": {},
   "outputs": [
    {
     "name": "stdout",
     "output_type": "stream",
     "text": [
      "argumenten är Större än 10\n",
      "None\n",
      "Button B has been clicked\n",
      "None\n"
     ]
    }
   ],
   "source": [
    "\n",
    "# 1.\n",
    "\n",
    "def if_else(arg):\n",
    "    if arg > 10:\n",
    "        print(\"argumenten är Större än 10\")\n",
    "    elif arg > 20:\n",
    "        print(\"argumenten är större än 20\")\n",
    "    else:\n",
    "        print(\"argumenten är mindre än 11\")\n",
    "\n",
    "#2. \n",
    "\n",
    "def controll(clicked):\n",
    "    match clicked:\n",
    "        case \"A\":\n",
    "            print(\"Button A has been clicked\")\n",
    "        case \"B\":\n",
    "            print(\"Button B has been clicked\")\n",
    "        case \"Y\":\n",
    "            print(\"Button Y has been clicked\")\n",
    "        case \"X\":\n",
    "            print(\"Button X has been clicked\")\n",
    "        case _:\n",
    "            print(\"Unknown Button Clicked\")\n",
    "\n",
    "\n",
    "# 1.\n",
    "user_input_1 = int(input(\"Skriv en siffa: \"))\n",
    "result_1 = if_else(user_input_1)\n",
    "print(result_1)\n",
    "\n",
    "# 2.\n",
    "user_input_2 = input(\"Options; A,B,Y & X: \")\n",
    "result_2 = controll(user_input_2)\n",
    "print(result_2)\n",
    "\n",
    "\n"
   ]
  },
  {
   "cell_type": "markdown",
   "metadata": {},
   "source": [
    "# Loopar\n",
    "\n",
    "1. For-sats\n",
    "\n",
    "\n",
    "2. While-sats\n",
    "\n"
   ]
  },
  {
   "cell_type": "code",
   "execution_count": 2,
   "metadata": {},
   "outputs": [
    {
     "name": "stdout",
     "output_type": "stream",
     "text": [
      "1\n",
      "2\n",
      "3\n",
      "4\n",
      "banana\n",
      "apple\n",
      "pineapple\n",
      "0 :  banana\n",
      "0\n",
      "1\n",
      "2\n",
      "3\n",
      "4\n",
      "5\n",
      "6\n",
      "7\n",
      "8\n",
      "9\n",
      "1 :  apple\n",
      "0\n",
      "1\n",
      "2\n",
      "3\n",
      "4\n",
      "5\n",
      "6\n",
      "7\n",
      "8\n",
      "9\n",
      "2 :  pineapple\n",
      "0\n",
      "1\n",
      "2\n",
      "3\n",
      "4\n",
      "5\n",
      "6\n",
      "7\n",
      "8\n",
      "9\n"
     ]
    }
   ],
   "source": [
    "\n",
    "# 1. \n",
    "\n",
    "sum = 0\n",
    "for i in range(1,5):\n",
    "    sum += 1\n",
    "    print(i)\n",
    "\n",
    "fruits = [\"banana\", \"apple\", \"pineapple\"]\n",
    "\n",
    "for fruit in fruits:\n",
    "    print(fruit)\n",
    "\n",
    "\n",
    "for index, fruit in enumerate(fruits):\n",
    "    print(index, \":\", fruit)\n",
    "\n",
    "\n",
    "\n",
    "# 2.\n",
    "\n",
    "    a = 0\n",
    "    while a < 4:\n",
    "        print(a)\n",
    "        a += 1\n",
    "    print(\"a is no longer less than 4\")\n",
    "\n",
    "\n"
   ]
  },
  {
   "cell_type": "markdown",
   "metadata": {},
   "source": [
    "# Datastrukturer\n",
    "\n",
    "1. List\n",
    "\n",
    "A = []\n",
    "\n",
    "2.  Dict\n",
    "\n",
    "B = {}\n",
    "\n",
    "\n"
   ]
  },
  {
   "cell_type": "code",
   "execution_count": 6,
   "metadata": {},
   "outputs": [
    {
     "name": "stdout",
     "output_type": "stream",
     "text": [
      "[5]\n",
      "{'Key': 'Value'}\n"
     ]
    }
   ],
   "source": [
    "# 1.\n",
    "\n",
    "A = []\n",
    "\n",
    "\n",
    "A.append(5)\n",
    "print(A)\n",
    "\n",
    "\n",
    "# 2.\n",
    "\n",
    "B = {\n",
    "    \"Key\" : \"Value\"\n",
    "}\n",
    "\n",
    "print(B)\n"
   ]
  }
 ],
 "metadata": {
  "kernelspec": {
   "display_name": "Python 3",
   "language": "python",
   "name": "python3"
  },
  "language_info": {
   "codemirror_mode": {
    "name": "ipython",
    "version": 3
   },
   "file_extension": ".py",
   "mimetype": "text/x-python",
   "name": "python",
   "nbconvert_exporter": "python",
   "pygments_lexer": "ipython3",
   "version": "3.10.8"
  }
 },
 "nbformat": 4,
 "nbformat_minor": 2
}
