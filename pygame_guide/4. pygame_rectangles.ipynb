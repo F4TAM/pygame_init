{
 "cells": [
  {
   "cell_type": "markdown",
   "metadata": {},
   "source": [
    "# 🎨 Arbeta med Rektanglar i Pygame\n",
    "\n"
   ]
  },
  {
   "cell_type": "markdown",
   "metadata": {},
   "source": [
    "\n",
    "## Varför använda rektanglar? 🤔\n",
    "\n",
    "\n",
    "En av de centrala koncepten i Pygame är att arbeta med rektanglar. \n",
    "\n",
    "De låter dig positionera och flytta saker runt skärmen och används också för kollisionsdetektering. \n",
    "\n",
    "Faktum är att de är en så viktig del av Pygame att de har sin egen klass.\n",
    "\n",
    "🎮 Exempel på mina spel: \n",
    "\n",
    "- **Skyttespel**:\n",
    "\n",
    "- **Plattformsspel**:\n",
    "\n",
    "Låt oss dyka in i hur man skapar rektangelobjekt.\n",
    "\n"
   ]
  },
  {
   "cell_type": "markdown",
   "metadata": {},
   "source": [
    "## Skapa en rektangel 📦\n",
    "\n",
    "\n",
    "För att skapa en rektangel från grunden kallar vi på `Rect`-funktionen och skickar nödvändiga argument för att skapa ett nytt rektangelobjekt.\n",
    "\n",
    "```python\n",
    "...\n",
    "rect_1 = pygame.Rect(200, 100, 150, 100)\n",
    "...\n",
    "\n",
    "```\n",
    "\n",
    "Du kommer märka att rektangeln inte visas på spelfönstret. För det måste vi kalla på `draw`-funktionen.\n",
    "\n",
    "### 🎨 Från bild till rektangel \n",
    "\n",
    "Ett annat sätt att skapa rektanglar är genom att härleda dem från ett annat objekt, till exempel en bild. \n",
    "\n",
    "Vi kommer att använda denna soldatbild och skapa en rektangel från den. Detta görs med funktionen `get_rect()`.\n",
    "\n",
    "\n",
    "```python\n",
    "...\n",
    "rect_2 = soldier.get_rect()\n",
    "...\n",
    "\n",
    "```\n",
    "\n",
    "\n"
   ]
  },
  {
   "cell_type": "markdown",
   "metadata": {},
   "source": [
    "## Modifiera en rektangel 🛠\n",
    "\n",
    "\n",
    "Det finns olika saker vi kan ändra på dessa rektanglar. Först kan vi uppdatera deras position på skärmen genom att skicka nya x- och y-koordinater.\n",
    "\n",
    "```python\n",
    "\n",
    "  rect_2.topleft = (200, 200)\n",
    "\n",
    "```\n",
    "\n",
    "\n",
    "## Flytta rektanglar 🏃\n",
    "\n",
    "\n",
    "Vi har tittat på att skapa rektanglar, uppdatera deras egenskaper och använda dem för att positionera bilder. \n",
    "\n",
    "Nu ska vi titta på hur man flyttar och manipulerar rektanglar i realtid.\n",
    "\n",
    "```python\n",
    "...\n",
    "  key = pygame.key.get_pressed()\n",
    "\n",
    "  if key[pygame.K_a] == True:\n",
    "    rect_2.x -= 5\n",
    "\n",
    "...\n",
    "\n",
    "```\n",
    "\n",
    "Ett annat sätt att göra detta är med `.move()` eller `.move_ip()`-metoderna.\n",
    "\n",
    "```python\n",
    "\n",
    "  key = pygame.key.get_pressed()\n",
    "\n",
    "  if key[pygame.K_a] == True:\n",
    "    rect_2.move_ip(-5, 0)\n",
    "\n",
    "...\n",
    "```\n"
   ]
  }
 ],
 "metadata": {
  "language_info": {
   "name": "python"
  }
 },
 "nbformat": 4,
 "nbformat_minor": 2
}
