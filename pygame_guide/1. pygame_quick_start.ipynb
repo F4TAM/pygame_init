{
 "cells": [
  {
   "cell_type": "markdown",
   "metadata": {},
   "source": [
    "# 🎮 KaahinAtNTI's Supersnabba Guide till Pygame\n",
    "\n",
    "## 🚀 Komma igång med Pygame på nolltid (eller max 10 min)\n"
   ]
  },
  {
   "cell_type": "markdown",
   "metadata": {},
   "source": [
    "### 📝 Välja en IDE\n",
    "\n",
    "\n",
    "**Rekommenderat kodredigeringsverktyg**: VS Code 📘\n",
    "\n",
    "### 🎮 Installation av Pygame\n",
    "\n",
    "\n",
    "Innan du börjar med Pygame, se till att du har både Python och pip installerade på din dator. Du kan ladda ner dem från python.org.\n",
    "\n",
    "### 🔧 Steg-för-steg guide för installation:\n",
    "\n",
    "\n",
    "1. Öppna din terminal (Terminal) 🖥. (I VS Code kan du öppna terminalen genom att samtidigt trycka på ctrl + shift + ö).\n",
    "\n",
    "2. Ange kommandot `pip install pygame` för att starta installationen 📥.\n",
    "\n",
    "3. När installationen är klar, skriv `pip show pygame` för att visa information om pygame-versionen och för att verifiera att installationen var lyckad ✅.\n",
    "\n",
    "### 🎲 Sätta upp ditt spel\n",
    "\n",
    "\n",
    "När du sätter igång med ditt Pygame-projekt, finns det några grundläggande komponenter som du behöver sätta upp:\n",
    "\n",
    "- Spelfönster (Game Window) 🖼\n",
    "\n",
    "- Spelloop (Game Loop) 🔁\n",
    "\n",
    "- Händelsehanterare (Event Handler) 🎮\n"
   ]
  },
  {
   "cell_type": "markdown",
   "metadata": {},
   "source": [
    "#### 🖥️ Spelfönster (Game Window)\n",
    "\n",
    "\n",
    "För att skapa ett `Game Window` används Pygames funktion `display.set_mode()`. \n",
    "\n",
    "Man börjar med att definiera bredd- och höjdvariablerna. \n",
    "\n",
    "Dessa värden skickas sedan till `display.set_mode()`-funktionen för att skapa fönstret. Det skapade fönstret lagras i variabeln `screen`.\n",
    "\n",
    "1. Definiera bredd och höjd för spel-fönstret.\n",
    "\n",
    "2. Skapa `Game Window` med hjälp av funktionen `display.set_mode()`.\n",
    "\n",
    "```python\n",
    "\n",
    "    SCREEN_WIDTH = 800\n",
    "    SCREEN_HEIGHT = 600\n",
    "\n",
    "    screen = pygame.display.set_mode((SCREEN_WIDTH, SCREEN_HEIGHT))\n",
    "```\n",
    "\n",
    "\n"
   ]
  },
  {
   "cell_type": "markdown",
   "metadata": {},
   "source": [
    "#### 🔄 Spelloop (Game Loop) \n",
    "\n",
    "\n",
    "För att hålla fönstret igång och aktivt behöver du en `Game-loop`. \n",
    "\n",
    "Denna loop kommer att fortsätta köra tills användaren väljer att stoppa den genom att stänga spelet.\n",
    "\n",
    "\n",
    "```python\n",
    "    run = True\n",
    "    while run:\n",
    "    # Your game code here\n",
    "    \n",
    "```\n",
    "\n"
   ]
  },
  {
   "cell_type": "markdown",
   "metadata": {},
   "source": [
    "#### 🖱️ Händelsehanterare (Event Handler)\n",
    "\n",
    "\n",
    "Med spel-loopen på plats är nästa steg att lägga till en \"event handler\". \n",
    "\n",
    "Denna hanterare tolkar användarens interaktioner, som t.ex. knapptryckningar eller musrörelser, och agerar därefter.\n",
    "\n",
    "Nedan är ett exempel på en event handler som lyssnar efter en `QUIT`-event:\n",
    "\n",
    "```python\n",
    "    for event in pygame.event.get():\n",
    "        if event.type == pygame.QUIT:\n",
    "            run = False\n",
    "```\n",
    "\n",
    "Denna kodsnutt letar efter en `QUIT`-event och om den upptäcks sätts variabeln `run` till `False`. \n",
    "\n",
    "Eftersom while-loopen endast kör så länge `run`-variabeln är satt till `True`, kommer loopen att avslutas så snart `run` ändras till `False` och därmed avslutas även programmet.\n",
    "\n"
   ]
  },
  {
   "cell_type": "markdown",
   "metadata": {},
   "source": [
    "**Här är hela koden samlad**:\n",
    "\n",
    "\n",
    "```python\n",
    "\n",
    "  import pygame\n",
    "\n",
    "  pygame.init()\n",
    "\n",
    "  SCREEN_WIDTH = 800\n",
    "  SCREEN_HEIGHT = 600\n",
    "\n",
    "  screen = pygame.display.set_mode((SCREEN_WIDTH, SCREEN_HEIGHT))\n",
    "\n",
    "  run = True\n",
    "  while run:\n",
    "\n",
    "    for event in pygame.event.get():\n",
    "      if event.type == pygame.QUIT:\n",
    "        run = False\n",
    "\n",
    "  pygame.quit()\n",
    "  \n",
    "```"
   ]
  },
  {
   "cell_type": "markdown",
   "metadata": {},
   "source": []
  }
 ],
 "metadata": {
  "language_info": {
   "name": "python"
  }
 },
 "nbformat": 4,
 "nbformat_minor": 2
}
