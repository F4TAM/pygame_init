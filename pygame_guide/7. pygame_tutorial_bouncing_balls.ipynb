{
 "cells": [
  {
   "cell_type": "markdown",
   "metadata": {},
   "source": [
    "# 🎱 Studsande Bollar med Justerbar Friktion i Pygame\n",
    "\n",
    "I denna handledning kommer vi att skapa en interaktiv simulering där du kan dra och släppa bollar som studsar mot väggarna, med möjligheten att justera friktionen på väggarna.\n",
    "\n"
   ]
  }
 ],
 "metadata": {
  "language_info": {
   "name": "python"
  }
 },
 "nbformat": 4,
 "nbformat_minor": 2
}
