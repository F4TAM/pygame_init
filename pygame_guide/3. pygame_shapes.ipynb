{
 "cells": [
  {
   "cell_type": "markdown",
   "metadata": {},
   "source": [
    "# 🎨 Introduktion till Former i Pygame\n",
    "\n",
    "\n",
    "I de flesta Pygame-projekt kommer du att stöta på bilder och spritesheets. Men för enklare former kan vi använda den inbyggda `draw`-modulen.\n"
   ]
  },
  {
   "cell_type": "markdown",
   "metadata": {},
   "source": [
    "## 📦 Rektanglar\n",
    "\n",
    "\n",
    "Vi börjar med den mest vanliga formen, rektangeln. Kör följande kod för att se den i aktion:\n",
    "\n",
    "```python\n",
    "\n",
    "    pygame.draw.rect(screen, (255, 0, 0), (200, 100, 150, 150))\n",
    "\n",
    "```\n",
    "\n",
    "Vad du bör se är en röd rektangel placerad i mitten av skärmen. Låt oss gå igenom vilka argument som krävs för funktionen:\n",
    "\n",
    "1. **Ytan** där rektangeln ska ritas på. I vårt fall är det `screen`, vårt spel fönster.\n",
    "\n",
    "2. **Färgen** på rektangeln. Här används RGB-värdet för rött.\n",
    "\n",
    "3. **Rektangelns egenskaper**: x- och y-koordinaterna kommer först, sedan bredden och höjden.\n",
    "\n",
    "\n",
    "### 📏 Extra Alternativ\n",
    "\n",
    "Förutom de ovanstående grundläggande alternativen finns det ytterligare några valmöjligheter:\n",
    "\n",
    "- **Kantbredd**: Genom att lägga till `width = 5` kan du rita endast rektangelns kontur snarare än en helt fylld rektangel.\n",
    "\n",
    "- **Rundade hörn**: Genom att lägga till `border_radius = 50` kan du få rektangeln att ha rundade hörn.\n",
    "\n",
    "- **Specifika rundade hörn**: Med `border_bottom_right_radius = 50` och `border_top_left_radius = 25` kan du specificera vilka hörn som ska vara rundade.\n"
   ]
  },
  {
   "cell_type": "markdown",
   "metadata": {},
   "source": [
    "## 🔵 Cirklar\n",
    "\n",
    "\n",
    "Nu går vi vidare till cirklar. De fungerar på ett liknande sätt:\n",
    "\n",
    "```python\n",
    "\n",
    "    pygame.draw.circle(screen, (0, 0, 0), (300, 200), 75)\n",
    "    \n",
    "```\n",
    "\n",
    "Denna kod ritade en svart cirkel i mitten av fönstret. Precis som med rektanglar kan du också specificera linjens bredd för cirklar.\n",
    "\n",
    "### 🌓 Kvadranter\n",
    "\n",
    "Ett intressant inslag med cirklar är att du kan välja att endast rita specifika kvadranter. Exempel:\n",
    "\n",
    "```python\n",
    "\n",
    "    pygame.draw.circle(screen, (0, 0, 0), (300, 200), 75)\n",
    "\n",
    "    pygame.draw.circle(screen, (255, 255, 0), (300, 200), 75, draw_top_right=True, draw_bottom_left=True)\n",
    "\n",
    "```\n"
   ]
  },
  {
   "cell_type": "markdown",
   "metadata": {},
   "source": [
    "## 🥚 Ellipser\n",
    "\n",
    "\n",
    "Ellipser tar exakt samma indata som rektanglar:\n",
    "\n",
    "```python\n",
    "\n",
    "    pygame.draw.ellipse(screen, (0, 0, 255), (200, 150, 150, 75))\n",
    "\n",
    "```\n"
   ]
  },
  {
   "cell_type": "markdown",
   "metadata": {},
   "source": [
    "## 🌈 Bågar\n",
    "\n",
    "\n",
    "Bågar är liknande rektanglar, men du måste också specificera en start- och slutvinkel:\n",
    "\n",
    "```python \n",
    "\n",
    "    pygame.draw.arc(screen, (0, 255, 255), (200, 100, 150, 150), 0, 3.14, width=5)\n",
    "    \n",
    "```\n"
   ]
  },
  {
   "cell_type": "markdown",
   "metadata": {},
   "source": [
    "\n",
    "## ➖ Linjer\n",
    "\n",
    "\n",
    "Linjer är den enklaste formen:\n",
    "\n",
    "```python\n",
    "    pos = pygame.mouse.get_pos()\n",
    "\n",
    "    pygame.draw.line(screen, (255, 0, 255), (300, 200), pos)\n",
    "\n",
    "```\n"
   ]
  },
  {
   "cell_type": "markdown",
   "metadata": {},
   "source": [
    "\n",
    "## 🛡 Polygonger\n",
    "\n",
    "\n",
    "Slutligen har vi polygoner. En polygon tar en sekvens av koordinater:\n",
    "\n",
    "```python\n",
    "    pygame.draw.polygon(screen, (100, 100, 100), ((100, 200), (200, 300), (500, 100), (200, 250)))\n",
    "\n",
    "```\n"
   ]
  }
 ],
 "metadata": {
  "language_info": {
   "name": "python"
  }
 },
 "nbformat": 4,
 "nbformat_minor": 2
}
